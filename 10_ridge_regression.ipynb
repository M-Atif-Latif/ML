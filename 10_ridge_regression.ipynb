{
 "cells": [
  {
   "cell_type": "markdown",
   "id": "3a4de202",
   "metadata": {},
   "source": [
    "# Ridge Regression\n",
    "\n",
    "Ridge Regression is a regularized version of Linear Regression where a regularization term equal to λ∑θj² is added to the cost function. This forces the learning algorithm to not only fit the data but also keep the model weights as small as possible. Note that the regularization term should only be added to the cost function during training. Once the model is trained, you want to evaluate the model's performance using the unregularized performance measure.\n",
    "\n",
    "## What is Regularization?\n",
    "\n",
    "Regularization is a technique used in machine learning and statistics to prevent overfitting of models on training data. Overfitting occurs when a model learns the training data too well, including its noise and outliers, leading to poor generalization to new, unseen data. Regularization helps to solve this problem by adding a penalty to the model's complexity.\n",
    "\n",
    "## Ridge Regression Explained\n",
    "\n",
    "Ridge regression, also known as Tikhonov regularization, is a type of linear regression that includes a regularization term. The key idea behind ridge regression is to find a new line that doesn't fit the training data as well as ordinary least squares regression, in order to achieve better generalization to new data. This is particularly useful when:\n",
    "\n",
    "- Dealing with multicollinearity (independent variables are highly correlated)\n",
    "- The number of predictors (features) exceeds the number of observations\n",
    "\n",
    "## Key Concept\n",
    "\n",
    "**Regularization**: Ridge regression adds a penalty equal to the square of the magnitude of coefficients. This penalty term (squared L2 norm) shrinks the coefficients towards zero, but it doesn't make them exactly zero.\n",
    "\n",
    "## Mathematical Representation\n",
    "\n",
    "The ridge regression modifies the least squares objective function by adding a penalty term:\n",
    "\n",
    "$$\\sum_{i=1}^{n}(y_i - \\sum_{j=1}^{p} x_{ij}\\beta_j)^2 + \\lambda \\sum_{j=1}^{p} \\beta_j^2$$\n",
    "\n",
    "where:\n",
    "\n",
    "- $y_i$ is the response value for the $i$th observation.\n",
    "- $x_{ij}$ is the value of the $j$th predictor for the $i$th observation.\n",
    "- $\\beta_j$ is the regression coefficient for the $j$th predictor.\n",
    "- $\\lambda$ is the tuning parameter that controls the strength of the penalty; $\\lambda \\geq 0$.\n",
    "\n",
    "In code implementations, `alpha` is the regularization strength ($\\lambda$). Adjusting alpha changes the strength of the regularization penalty. A larger alpha enforces stronger regularization (leading to smaller coefficients), and a smaller alpha tends towards a model similar to linear regression.\n",
    "\n",
    "## Key Points\n",
    "\n",
    "- **Choosing Alpha**: Selecting the right value of alpha is crucial. It can be done using cross-validation techniques like RidgeCV.\n",
    "- **Standardization**: It's often recommended to standardize the predictors before applying ridge regression.\n",
    "- **Bias-Variance Tradeoff**: Ridge regression balances the bias-variance tradeoff in model training."
   ]
  }
 ],
 "metadata": {
  "kernelspec": {
   "display_name": "MAchine_learning",
   "language": "python",
   "name": "python3"
  },
  "language_info": {
   "name": "python",
   "version": "3.12.9"
  }
 },
 "nbformat": 4,
 "nbformat_minor": 5
}
